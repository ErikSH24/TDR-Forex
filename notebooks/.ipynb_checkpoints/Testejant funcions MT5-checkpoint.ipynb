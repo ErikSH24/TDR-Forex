{
 "cells": [
  {
   "cell_type": "code",
   "execution_count": 1,
   "id": "f14ef3cf-bb8d-4caf-b4c7-02be170b8a08",
   "metadata": {},
   "outputs": [],
   "source": [
    "import pandas as pd\n",
    "import os\n",
    "from datetime import datetime, timedelta\n",
    "from tqdm import tqdm\n",
    "import gc\n",
    "import sys\n",
    "import matplotlib.pyplot as plt\n",
    "import MetaTrader5 as mt5\n",
    "\n",
    "path_root = \"C:/Users/msanchon/Documents/TDR-Forex/\"\n",
    "sys.path.append(path_root)\n",
    "import utils.mt5 as fct_mt5\n",
    "from utils.data import get_dataset\n",
    "from utils.strategies import get_strategy_H1, CalcLotSize"
   ]
  },
  {
   "cell_type": "markdown",
   "id": "e5e156e6-3ac7-498b-99b6-f571b0384e33",
   "metadata": {},
   "source": [
    "## Posicions"
   ]
  },
  {
   "cell_type": "code",
   "execution_count": 2,
   "id": "46347bec-662f-4f95-91eb-8cb1d8e44ddc",
   "metadata": {},
   "outputs": [
    {
     "data": {
      "text/html": [
       "<div>\n",
       "<style scoped>\n",
       "    .dataframe tbody tr th:only-of-type {\n",
       "        vertical-align: middle;\n",
       "    }\n",
       "\n",
       "    .dataframe tbody tr th {\n",
       "        vertical-align: top;\n",
       "    }\n",
       "\n",
       "    .dataframe thead th {\n",
       "        text-align: right;\n",
       "    }\n",
       "</style>\n",
       "<table border=\"1\" class=\"dataframe\">\n",
       "  <thead>\n",
       "    <tr style=\"text-align: right;\">\n",
       "      <th></th>\n",
       "      <th>ticket</th>\n",
       "      <th>time</th>\n",
       "      <th>time_msc</th>\n",
       "      <th>time_update</th>\n",
       "      <th>time_update_msc</th>\n",
       "      <th>type</th>\n",
       "      <th>magic</th>\n",
       "      <th>identifier</th>\n",
       "      <th>reason</th>\n",
       "      <th>volume</th>\n",
       "      <th>price_open</th>\n",
       "      <th>sl</th>\n",
       "      <th>tp</th>\n",
       "      <th>price_current</th>\n",
       "      <th>swap</th>\n",
       "      <th>profit</th>\n",
       "      <th>symbol</th>\n",
       "      <th>comment</th>\n",
       "      <th>external_id</th>\n",
       "    </tr>\n",
       "  </thead>\n",
       "  <tbody>\n",
       "  </tbody>\n",
       "</table>\n",
       "</div>"
      ],
      "text/plain": [
       "Empty DataFrame\n",
       "Columns: [ticket, time, time_msc, time_update, time_update_msc, type, magic, identifier, reason, volume, price_open, sl, tp, price_current, swap, profit, symbol, comment, external_id]\n",
       "Index: []"
      ]
     },
     "execution_count": 2,
     "metadata": {},
     "output_type": "execute_result"
    }
   ],
   "source": [
    "# Retorna una taula amb les posicions obertes\n",
    "posicions = fct_mt5.get_positions_df()\n",
    "posicions"
   ]
  },
  {
   "cell_type": "code",
   "execution_count": 12,
   "id": "877f2a82-1021-4b0c-8d36-a4fa07d8e11b",
   "metadata": {},
   "outputs": [
    {
     "name": "stdout",
     "output_type": "stream",
     "text": [
      "retcode=10009 - deal=52966351244 - order=53016833727\n"
     ]
    },
    {
     "data": {
      "text/plain": [
       "53016833727"
      ]
     },
     "execution_count": 12,
     "metadata": {},
     "output_type": "execute_result"
    }
   ],
   "source": [
    "# Obrir una posició llarga. Retorna l'identificador de l'operació\n",
    "argSymbol = \"EURUSD\"; argLotSize = 0.01; argSlippage = 10; argMagicNumber = 2006; argComment = \"Sistema mitjanes\"\n",
    "ticket = fct_mt5.OpenBuyOrder(argSymbol, argLotSize, argSlippage, argMagicNumber, argComment)\n",
    "ticket"
   ]
  },
  {
   "cell_type": "code",
   "execution_count": 17,
   "id": "943b53a3-f74e-407b-851a-f07c8d2ce512",
   "metadata": {},
   "outputs": [
    {
     "name": "stdout",
     "output_type": "stream",
     "text": [
      "retcode=10009 - deal=52966414952 - order=53016897219\n"
     ]
    },
    {
     "data": {
      "text/plain": [
       "53016897219"
      ]
     },
     "execution_count": 17,
     "metadata": {},
     "output_type": "execute_result"
    }
   ],
   "source": [
    "# Obrir una posició curta. Retorna l'identificador de l'operació\n",
    "argSymbol = \"EURUSD\"; argLotSize = 0.01; argSlippage = 10; argMagicNumber = 2006; argComment = \"Sistema mitjanes\"\n",
    "ticket = fct_mt5.OpenSellOrder(argSymbol, argLotSize, argSlippage, argMagicNumber, argComment)\n",
    "ticket"
   ]
  },
  {
   "cell_type": "code",
   "execution_count": 15,
   "id": "5c4db9d1-93ec-4a1d-a67e-ae240fc303ff",
   "metadata": {},
   "outputs": [
    {
     "data": {
      "text/html": [
       "<div>\n",
       "<style scoped>\n",
       "    .dataframe tbody tr th:only-of-type {\n",
       "        vertical-align: middle;\n",
       "    }\n",
       "\n",
       "    .dataframe tbody tr th {\n",
       "        vertical-align: top;\n",
       "    }\n",
       "\n",
       "    .dataframe thead th {\n",
       "        text-align: right;\n",
       "    }\n",
       "</style>\n",
       "<table border=\"1\" class=\"dataframe\">\n",
       "  <thead>\n",
       "    <tr style=\"text-align: right;\">\n",
       "      <th></th>\n",
       "      <th>ticket</th>\n",
       "      <th>time</th>\n",
       "      <th>time_msc</th>\n",
       "      <th>time_update</th>\n",
       "      <th>time_update_msc</th>\n",
       "      <th>type</th>\n",
       "      <th>magic</th>\n",
       "      <th>identifier</th>\n",
       "      <th>reason</th>\n",
       "      <th>volume</th>\n",
       "      <th>price_open</th>\n",
       "      <th>sl</th>\n",
       "      <th>tp</th>\n",
       "      <th>price_current</th>\n",
       "      <th>swap</th>\n",
       "      <th>profit</th>\n",
       "      <th>symbol</th>\n",
       "      <th>comment</th>\n",
       "      <th>external_id</th>\n",
       "    </tr>\n",
       "  </thead>\n",
       "  <tbody>\n",
       "    <tr>\n",
       "      <th>0</th>\n",
       "      <td>53016833727</td>\n",
       "      <td>2025-08-19 11:06:27</td>\n",
       "      <td>2025-08-19 11:06:27.769</td>\n",
       "      <td>1755601587</td>\n",
       "      <td>1755601587769</td>\n",
       "      <td>0</td>\n",
       "      <td>2006</td>\n",
       "      <td>53016833727</td>\n",
       "      <td>3</td>\n",
       "      <td>0.01</td>\n",
       "      <td>1.16783</td>\n",
       "      <td>0.0</td>\n",
       "      <td>0.0</td>\n",
       "      <td>1.1676</td>\n",
       "      <td>0.0</td>\n",
       "      <td>-0.2</td>\n",
       "      <td>EURUSD</td>\n",
       "      <td>Sistema mitjanes</td>\n",
       "      <td></td>\n",
       "    </tr>\n",
       "  </tbody>\n",
       "</table>\n",
       "</div>"
      ],
      "text/plain": [
       "        ticket                time                time_msc  time_update  \\\n",
       "0  53016833727 2025-08-19 11:06:27 2025-08-19 11:06:27.769   1755601587   \n",
       "\n",
       "   time_update_msc  type  magic   identifier  reason  volume  price_open   sl  \\\n",
       "0    1755601587769     0   2006  53016833727       3    0.01     1.16783  0.0   \n",
       "\n",
       "    tp  price_current  swap  profit  symbol           comment external_id  \n",
       "0  0.0         1.1676   0.0    -0.2  EURUSD  Sistema mitjanes              "
      ]
     },
     "execution_count": 15,
     "metadata": {},
     "output_type": "execute_result"
    }
   ],
   "source": [
    "# Obtenim informació d'una posició oberta pel seu identificador en forma taula\n",
    "fct_mt5.get_position_info(53016833727)"
   ]
  },
  {
   "cell_type": "code",
   "execution_count": 18,
   "id": "295ac843-e1c1-4572-a7c1-c5d43b69744e",
   "metadata": {},
   "outputs": [
    {
     "name": "stdout",
     "output_type": "stream",
     "text": [
      "Change SL-TP 53016897219 successfully\n"
     ]
    }
   ],
   "source": [
    "# Afegim SL i TP a una posició oberta\n",
    "fct_mt5.Modify_SL_and_TP(53016897219, 1.17, 1.1625, 10)"
   ]
  },
  {
   "cell_type": "code",
   "execution_count": 21,
   "id": "652c07cb-9f62-41cc-93e9-d6a7a7bbcf92",
   "metadata": {},
   "outputs": [
    {
     "name": "stdout",
     "output_type": "stream",
     "text": [
      "Ticket 53016897219 closed successfully\n"
     ]
    }
   ],
   "source": [
    "# Tanquem una posició pel seu indicador\n",
    "fct_mt5.CloseOrderByTicket(53016897219, 10)"
   ]
  },
  {
   "cell_type": "code",
   "execution_count": 22,
   "id": "e4586042-9344-46ae-93a3-0a2e99534716",
   "metadata": {},
   "outputs": [
    {
     "name": "stdout",
     "output_type": "stream",
     "text": [
      "Closed successfully: retcode=10009 - deal=52966476381 - order=53016958793\n"
     ]
    }
   ],
   "source": [
    "# Tanquem totes les posicions obertes d'una divisa i un identificador\n",
    "fct_mt5.CloseAllOrders(\"EURUSD\", 2006, 10)"
   ]
  },
  {
   "cell_type": "markdown",
   "id": "7e742fe5-3997-4084-9290-3c9b8c4f6c2f",
   "metadata": {},
   "source": [
    "## Ordres pendents"
   ]
  },
  {
   "cell_type": "code",
   "execution_count": 28,
   "id": "c0ba291f-eb84-4775-a31c-1eee6cbc00ee",
   "metadata": {},
   "outputs": [
    {
     "data": {
      "text/plain": [
       "OrderSendResult(retcode=10009, deal=0, order=53017014143, volume=0.01, price=0.0, bid=0.0, ask=0.0, comment='Request executed', request_id=1799007255, retcode_external=0, request=TradeRequest(action=5, magic=2006, order=0, symbol='EURUSD', volume=0.01, price=1.1625, stoplimit=0.0, sl=1.1575, tp=1.165, deviation=10, type=2, type_filling=0, type_time=0, expiration=0, comment='Prova', position=0, position_by=0))"
      ]
     },
     "execution_count": 28,
     "metadata": {},
     "output_type": "execute_result"
    }
   ],
   "source": [
    "# Creem una ordre pendent\n",
    "fct_mt5.OpenPendingOrder(\"EURUSD\", 0.01, 1.1625, 1.1575, 1.1650, 10, 2006, \"Prova\", \"ORDER_TYPE_BUY_LIMIT\")"
   ]
  },
  {
   "cell_type": "code",
   "execution_count": 2,
   "id": "7805317c-4358-4eef-82f7-e725a0818a15",
   "metadata": {},
   "outputs": [
    {
     "data": {
      "text/html": [
       "<div>\n",
       "<style scoped>\n",
       "    .dataframe tbody tr th:only-of-type {\n",
       "        vertical-align: middle;\n",
       "    }\n",
       "\n",
       "    .dataframe tbody tr th {\n",
       "        vertical-align: top;\n",
       "    }\n",
       "\n",
       "    .dataframe thead th {\n",
       "        text-align: right;\n",
       "    }\n",
       "</style>\n",
       "<table border=\"1\" class=\"dataframe\">\n",
       "  <thead>\n",
       "    <tr style=\"text-align: right;\">\n",
       "      <th></th>\n",
       "      <th>ticket</th>\n",
       "      <th>time_setup</th>\n",
       "      <th>time_setup_msc</th>\n",
       "      <th>time_done</th>\n",
       "      <th>time_done_msc</th>\n",
       "      <th>time_expiration</th>\n",
       "      <th>type</th>\n",
       "      <th>type_time</th>\n",
       "      <th>type_filling</th>\n",
       "      <th>state</th>\n",
       "      <th>...</th>\n",
       "      <th>volume_initial</th>\n",
       "      <th>volume_current</th>\n",
       "      <th>price_open</th>\n",
       "      <th>sl</th>\n",
       "      <th>tp</th>\n",
       "      <th>price_current</th>\n",
       "      <th>price_stoplimit</th>\n",
       "      <th>symbol</th>\n",
       "      <th>comment</th>\n",
       "      <th>external_id</th>\n",
       "    </tr>\n",
       "  </thead>\n",
       "  <tbody>\n",
       "    <tr>\n",
       "      <th>0</th>\n",
       "      <td>53017009082</td>\n",
       "      <td>2025-08-19 11:34:08</td>\n",
       "      <td>2025-08-19 11:34:08.253</td>\n",
       "      <td>0</td>\n",
       "      <td>0</td>\n",
       "      <td>0</td>\n",
       "      <td>2</td>\n",
       "      <td>0</td>\n",
       "      <td>2</td>\n",
       "      <td>1</td>\n",
       "      <td>...</td>\n",
       "      <td>0.01</td>\n",
       "      <td>0.01</td>\n",
       "      <td>1.1625</td>\n",
       "      <td>1.1595</td>\n",
       "      <td>1.1655</td>\n",
       "      <td>1.16742</td>\n",
       "      <td>0.0</td>\n",
       "      <td>EURUSD</td>\n",
       "      <td>Prova</td>\n",
       "      <td></td>\n",
       "    </tr>\n",
       "    <tr>\n",
       "      <th>1</th>\n",
       "      <td>53017014143</td>\n",
       "      <td>2025-08-19 11:35:04</td>\n",
       "      <td>2025-08-19 11:35:04.915</td>\n",
       "      <td>0</td>\n",
       "      <td>0</td>\n",
       "      <td>0</td>\n",
       "      <td>2</td>\n",
       "      <td>0</td>\n",
       "      <td>2</td>\n",
       "      <td>1</td>\n",
       "      <td>...</td>\n",
       "      <td>0.01</td>\n",
       "      <td>0.01</td>\n",
       "      <td>1.1625</td>\n",
       "      <td>1.1575</td>\n",
       "      <td>1.1650</td>\n",
       "      <td>1.16742</td>\n",
       "      <td>0.0</td>\n",
       "      <td>EURUSD</td>\n",
       "      <td>Prova</td>\n",
       "      <td></td>\n",
       "    </tr>\n",
       "  </tbody>\n",
       "</table>\n",
       "<p>2 rows × 24 columns</p>\n",
       "</div>"
      ],
      "text/plain": [
       "        ticket          time_setup          time_setup_msc  time_done  \\\n",
       "0  53017009082 2025-08-19 11:34:08 2025-08-19 11:34:08.253          0   \n",
       "1  53017014143 2025-08-19 11:35:04 2025-08-19 11:35:04.915          0   \n",
       "\n",
       "   time_done_msc  time_expiration  type  type_time  type_filling  state  ...  \\\n",
       "0              0                0     2          0             2      1  ...   \n",
       "1              0                0     2          0             2      1  ...   \n",
       "\n",
       "   volume_initial  volume_current  price_open      sl      tp  price_current  \\\n",
       "0            0.01            0.01      1.1625  1.1595  1.1655        1.16742   \n",
       "1            0.01            0.01      1.1625  1.1575  1.1650        1.16742   \n",
       "\n",
       "   price_stoplimit  symbol  comment  external_id  \n",
       "0              0.0  EURUSD    Prova               \n",
       "1              0.0  EURUSD    Prova               \n",
       "\n",
       "[2 rows x 24 columns]"
      ]
     },
     "execution_count": 2,
     "metadata": {},
     "output_type": "execute_result"
    }
   ],
   "source": [
    "# Obtenim una taula amb informació de totes les ordres pendents\n",
    "fct_mt5.get_orders_df()"
   ]
  },
  {
   "cell_type": "code",
   "execution_count": 31,
   "id": "8ec3539c-688f-4c22-9dd0-2bff9b5694bf",
   "metadata": {},
   "outputs": [
    {
     "data": {
      "text/html": [
       "<div>\n",
       "<style scoped>\n",
       "    .dataframe tbody tr th:only-of-type {\n",
       "        vertical-align: middle;\n",
       "    }\n",
       "\n",
       "    .dataframe tbody tr th {\n",
       "        vertical-align: top;\n",
       "    }\n",
       "\n",
       "    .dataframe thead th {\n",
       "        text-align: right;\n",
       "    }\n",
       "</style>\n",
       "<table border=\"1\" class=\"dataframe\">\n",
       "  <thead>\n",
       "    <tr style=\"text-align: right;\">\n",
       "      <th></th>\n",
       "      <th>ticket</th>\n",
       "      <th>time_setup</th>\n",
       "      <th>time_setup_msc</th>\n",
       "      <th>time_done</th>\n",
       "      <th>time_done_msc</th>\n",
       "      <th>time_expiration</th>\n",
       "      <th>type</th>\n",
       "      <th>type_time</th>\n",
       "      <th>type_filling</th>\n",
       "      <th>state</th>\n",
       "      <th>...</th>\n",
       "      <th>volume_initial</th>\n",
       "      <th>volume_current</th>\n",
       "      <th>price_open</th>\n",
       "      <th>sl</th>\n",
       "      <th>tp</th>\n",
       "      <th>price_current</th>\n",
       "      <th>price_stoplimit</th>\n",
       "      <th>symbol</th>\n",
       "      <th>comment</th>\n",
       "      <th>external_id</th>\n",
       "    </tr>\n",
       "  </thead>\n",
       "  <tbody>\n",
       "    <tr>\n",
       "      <th>0</th>\n",
       "      <td>53017009082</td>\n",
       "      <td>2025-08-19 11:34:08</td>\n",
       "      <td>2025-08-19 11:34:08.253</td>\n",
       "      <td>0</td>\n",
       "      <td>0</td>\n",
       "      <td>0</td>\n",
       "      <td>2</td>\n",
       "      <td>0</td>\n",
       "      <td>2</td>\n",
       "      <td>1</td>\n",
       "      <td>...</td>\n",
       "      <td>0.01</td>\n",
       "      <td>0.01</td>\n",
       "      <td>1.1625</td>\n",
       "      <td>1.1595</td>\n",
       "      <td>1.1655</td>\n",
       "      <td>1.16732</td>\n",
       "      <td>0.0</td>\n",
       "      <td>EURUSD</td>\n",
       "      <td>Prova</td>\n",
       "      <td></td>\n",
       "    </tr>\n",
       "  </tbody>\n",
       "</table>\n",
       "<p>1 rows × 24 columns</p>\n",
       "</div>"
      ],
      "text/plain": [
       "        ticket          time_setup          time_setup_msc  time_done  \\\n",
       "0  53017009082 2025-08-19 11:34:08 2025-08-19 11:34:08.253          0   \n",
       "\n",
       "   time_done_msc  time_expiration  type  type_time  type_filling  state  ...  \\\n",
       "0              0                0     2          0             2      1  ...   \n",
       "\n",
       "   volume_initial  volume_current  price_open      sl      tp  price_current  \\\n",
       "0            0.01            0.01      1.1625  1.1595  1.1655        1.16732   \n",
       "\n",
       "   price_stoplimit  symbol  comment  external_id  \n",
       "0              0.0  EURUSD    Prova               \n",
       "\n",
       "[1 rows x 24 columns]"
      ]
     },
     "execution_count": 31,
     "metadata": {},
     "output_type": "execute_result"
    }
   ],
   "source": [
    "# Obtenim informació d'una ordre pendent amb el seu identificador\n",
    "fct_mt5.get_order_info(53017009082)"
   ]
  },
  {
   "cell_type": "code",
   "execution_count": 4,
   "id": "23c69c33-acfc-413e-bda2-638dac3bc7a9",
   "metadata": {},
   "outputs": [
    {
     "name": "stdout",
     "output_type": "stream",
     "text": [
      "Order 53017009082 modified successfully: retcode=10009\n"
     ]
    }
   ],
   "source": [
    "# Modifiquem una ordre pendent amb el seu identificador\n",
    "fct_mt5.ModifyPendingOrder(53017009082, 1.1615, 1.1565, 1.1660)"
   ]
  },
  {
   "cell_type": "code",
   "execution_count": 3,
   "id": "77c38c43-2159-4b0f-a55b-2d9a041c4ad8",
   "metadata": {},
   "outputs": [
    {
     "name": "stdout",
     "output_type": "stream",
     "text": [
      "Order 53017009082 deleted successfully: retcode=10009\n"
     ]
    }
   ],
   "source": [
    "# Tanquem una ordre pendent amb el seu identificador\n",
    "fct_mt5.ClosePendingOrderByTicket(53017009082)"
   ]
  },
  {
   "cell_type": "code",
   "execution_count": 5,
   "id": "985c8ca7-89d1-491f-bceb-2212658e53e8",
   "metadata": {},
   "outputs": [
    {
     "name": "stdout",
     "output_type": "stream",
     "text": [
      "Order 53017014143 deleted successfully: retcode=10009\n"
     ]
    }
   ],
   "source": [
    "# Tanquem totes les ordres pendents d'una divisa i un identificador\n",
    "fct_mt5.CloseAllPendingOrder(\"EURUSD\", 2006)"
   ]
  },
  {
   "cell_type": "code",
   "execution_count": null,
   "id": "a7eca6e3-287a-4e5b-bc43-0b5d3e30aab1",
   "metadata": {},
   "outputs": [],
   "source": []
  }
 ],
 "metadata": {
  "kernelspec": {
   "display_name": "Python (TDR)",
   "language": "python",
   "name": "tdr"
  },
  "language_info": {
   "codemirror_mode": {
    "name": "ipython",
    "version": 3
   },
   "file_extension": ".py",
   "mimetype": "text/x-python",
   "name": "python",
   "nbconvert_exporter": "python",
   "pygments_lexer": "ipython3",
   "version": "3.10.16"
  }
 },
 "nbformat": 4,
 "nbformat_minor": 5
}
