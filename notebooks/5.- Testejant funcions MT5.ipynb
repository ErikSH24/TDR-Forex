{
 "cells": [
  {
   "cell_type": "code",
   "execution_count": 1,
   "id": "f14ef3cf-bb8d-4caf-b4c7-02be170b8a08",
   "metadata": {},
   "outputs": [],
   "source": [
    "import pandas as pd\n",
    "import os\n",
    "from datetime import datetime, timedelta\n",
    "from tqdm import tqdm\n",
    "import gc\n",
    "import sys\n",
    "import matplotlib.pyplot as plt\n",
    "import MetaTrader5 as mt5\n",
    "\n",
    "path_root = \"D:/Documentos/Erik/TDR/TDR-Forex/\"\n",
    "sys.path.append(path_root)\n",
    "from utils.mt5 import *\n",
    "from utils.data import get_dataset\n",
    "from utils.strategies import get_strategy_H1, CalcLotSize"
   ]
  },
  {
   "cell_type": "markdown",
   "id": "e5e156e6-3ac7-498b-99b6-f571b0384e33",
   "metadata": {},
   "source": [
    "## Posicions"
   ]
  },
  {
   "cell_type": "code",
   "execution_count": 10,
   "id": "46347bec-662f-4f95-91eb-8cb1d8e44ddc",
   "metadata": {},
   "outputs": [
    {
     "data": {
      "text/html": [
       "<div>\n",
       "<style scoped>\n",
       "    .dataframe tbody tr th:only-of-type {\n",
       "        vertical-align: middle;\n",
       "    }\n",
       "\n",
       "    .dataframe tbody tr th {\n",
       "        vertical-align: top;\n",
       "    }\n",
       "\n",
       "    .dataframe thead th {\n",
       "        text-align: right;\n",
       "    }\n",
       "</style>\n",
       "<table border=\"1\" class=\"dataframe\">\n",
       "  <thead>\n",
       "    <tr style=\"text-align: right;\">\n",
       "      <th></th>\n",
       "      <th>ticket</th>\n",
       "      <th>time</th>\n",
       "      <th>time_msc</th>\n",
       "      <th>time_update</th>\n",
       "      <th>time_update_msc</th>\n",
       "      <th>type</th>\n",
       "      <th>magic</th>\n",
       "      <th>identifier</th>\n",
       "      <th>reason</th>\n",
       "      <th>volume</th>\n",
       "      <th>price_open</th>\n",
       "      <th>sl</th>\n",
       "      <th>tp</th>\n",
       "      <th>price_current</th>\n",
       "      <th>swap</th>\n",
       "      <th>profit</th>\n",
       "      <th>symbol</th>\n",
       "      <th>comment</th>\n",
       "      <th>external_id</th>\n",
       "    </tr>\n",
       "  </thead>\n",
       "  <tbody>\n",
       "    <tr>\n",
       "      <th>0</th>\n",
       "      <td>4412362562</td>\n",
       "      <td>2025-08-25 11:55:40</td>\n",
       "      <td>2025-08-25 11:55:40.172</td>\n",
       "      <td>2025-08-25 11:55:40</td>\n",
       "      <td>2025-08-25 11:55:40.172</td>\n",
       "      <td>0</td>\n",
       "      <td>1974</td>\n",
       "      <td>4412362562</td>\n",
       "      <td>3</td>\n",
       "      <td>0.1</td>\n",
       "      <td>1.17070</td>\n",
       "      <td>0.00000</td>\n",
       "      <td>0.00000</td>\n",
       "      <td>1.17047</td>\n",
       "      <td>0.0</td>\n",
       "      <td>-1.97</td>\n",
       "      <td>EURUSD</td>\n",
       "      <td>Twin Hours EMA</td>\n",
       "      <td></td>\n",
       "    </tr>\n",
       "    <tr>\n",
       "      <th>1</th>\n",
       "      <td>4412368652</td>\n",
       "      <td>2025-08-25 11:56:21</td>\n",
       "      <td>2025-08-25 11:56:21.508</td>\n",
       "      <td>2025-08-25 11:56:21</td>\n",
       "      <td>2025-08-25 11:56:21.508</td>\n",
       "      <td>0</td>\n",
       "      <td>1974</td>\n",
       "      <td>4412368652</td>\n",
       "      <td>3</td>\n",
       "      <td>0.1</td>\n",
       "      <td>1.17048</td>\n",
       "      <td>1.16948</td>\n",
       "      <td>1.17298</td>\n",
       "      <td>1.17047</td>\n",
       "      <td>0.0</td>\n",
       "      <td>-0.09</td>\n",
       "      <td>EURUSD</td>\n",
       "      <td>Twin Hours EMA</td>\n",
       "      <td></td>\n",
       "    </tr>\n",
       "    <tr>\n",
       "      <th>2</th>\n",
       "      <td>4412371490</td>\n",
       "      <td>2025-08-25 11:56:41</td>\n",
       "      <td>2025-08-25 11:56:41.034</td>\n",
       "      <td>2025-08-25 11:56:41</td>\n",
       "      <td>2025-08-25 11:56:41.034</td>\n",
       "      <td>1</td>\n",
       "      <td>1974</td>\n",
       "      <td>4412371490</td>\n",
       "      <td>3</td>\n",
       "      <td>0.1</td>\n",
       "      <td>1.17036</td>\n",
       "      <td>1.17136</td>\n",
       "      <td>1.16786</td>\n",
       "      <td>1.17059</td>\n",
       "      <td>0.0</td>\n",
       "      <td>-1.96</td>\n",
       "      <td>EURUSD</td>\n",
       "      <td>Twin Hours EMA</td>\n",
       "      <td></td>\n",
       "    </tr>\n",
       "  </tbody>\n",
       "</table>\n",
       "</div>"
      ],
      "text/plain": [
       "       ticket                time                time_msc         time_update  \\\n",
       "0  4412362562 2025-08-25 11:55:40 2025-08-25 11:55:40.172 2025-08-25 11:55:40   \n",
       "1  4412368652 2025-08-25 11:56:21 2025-08-25 11:56:21.508 2025-08-25 11:56:21   \n",
       "2  4412371490 2025-08-25 11:56:41 2025-08-25 11:56:41.034 2025-08-25 11:56:41   \n",
       "\n",
       "          time_update_msc  type  magic  identifier  reason  volume  \\\n",
       "0 2025-08-25 11:55:40.172     0   1974  4412362562       3     0.1   \n",
       "1 2025-08-25 11:56:21.508     0   1974  4412368652       3     0.1   \n",
       "2 2025-08-25 11:56:41.034     1   1974  4412371490       3     0.1   \n",
       "\n",
       "   price_open       sl       tp  price_current  swap  profit  symbol  \\\n",
       "0     1.17070  0.00000  0.00000        1.17047   0.0   -1.97  EURUSD   \n",
       "1     1.17048  1.16948  1.17298        1.17047   0.0   -0.09  EURUSD   \n",
       "2     1.17036  1.17136  1.16786        1.17059   0.0   -1.96  EURUSD   \n",
       "\n",
       "          comment external_id  \n",
       "0  Twin Hours EMA              \n",
       "1  Twin Hours EMA              \n",
       "2  Twin Hours EMA              "
      ]
     },
     "execution_count": 10,
     "metadata": {},
     "output_type": "execute_result"
    }
   ],
   "source": [
    "# Retorna una taula amb les posicions obertes\n",
    "posicions = get_positions_df()\n",
    "posicions"
   ]
  },
  {
   "cell_type": "markdown",
   "id": "4b85e926-7ccc-451f-b0c3-9c6fca96f473",
   "metadata": {},
   "source": [
    "## Deals\n",
    "\n",
    "#### `type`: Indica el tipus d’operació o transacció:\n",
    "- **0**: Buy  \n",
    "- **1**: Sell  \n",
    "- **2**: Balance  \n",
    "\n",
    "#### `entry`: Especifica com s’ha introduït o tancat la posició:\n",
    "- **0**: In (Obertura)  \n",
    "- **1**: Out (Tancament)  \n",
    "- **2**: In/Out (Modificació parcial, increment o reducció)  \n",
    "\n",
    "#### `reason`: Mostra la raó per la qual s’ha executat l’operació:\n",
    "- **0**: Client (Execució manual)  \n",
    "- **1**: Expert (Expert Advisor)  \n",
    "- **2**: Dealer (Broker)  \n",
    "- **3**: Signal (Subscripció a senyal)  \n",
    "- **4**: Stop Loss (SL activat)  \n",
    "- **5**: Take Profit (TP activat)  \n",
    "- **6**: Stop Out (Tancament forçat per marge)  \n",
    "- **7**: Roll Over (Ajustaments com swaps o contractes)  \n",
    "- **8**: SL/TP (Altres execucions automàtiques)  \n"
   ]
  },
  {
   "cell_type": "code",
   "execution_count": 11,
   "id": "46c64dbe-d2c5-4721-b9d9-0f64d66ef3f1",
   "metadata": {},
   "outputs": [
    {
     "data": {
      "text/html": [
       "<div>\n",
       "<style scoped>\n",
       "    .dataframe tbody tr th:only-of-type {\n",
       "        vertical-align: middle;\n",
       "    }\n",
       "\n",
       "    .dataframe tbody tr th {\n",
       "        vertical-align: top;\n",
       "    }\n",
       "\n",
       "    .dataframe thead th {\n",
       "        text-align: right;\n",
       "    }\n",
       "</style>\n",
       "<table border=\"1\" class=\"dataframe\">\n",
       "  <thead>\n",
       "    <tr style=\"text-align: right;\">\n",
       "      <th></th>\n",
       "      <th>ticket</th>\n",
       "      <th>order</th>\n",
       "      <th>time</th>\n",
       "      <th>time_msc</th>\n",
       "      <th>type</th>\n",
       "      <th>entry</th>\n",
       "      <th>magic</th>\n",
       "      <th>position_id</th>\n",
       "      <th>reason</th>\n",
       "      <th>volume</th>\n",
       "      <th>price</th>\n",
       "      <th>commission</th>\n",
       "      <th>swap</th>\n",
       "      <th>profit</th>\n",
       "      <th>fee</th>\n",
       "      <th>symbol</th>\n",
       "      <th>comment</th>\n",
       "      <th>external_id</th>\n",
       "    </tr>\n",
       "  </thead>\n",
       "  <tbody>\n",
       "    <tr>\n",
       "      <th>68</th>\n",
       "      <td>4358368166</td>\n",
       "      <td>4412368652</td>\n",
       "      <td>2025-08-25 11:56:21</td>\n",
       "      <td>2025-08-25 11:56:21.508</td>\n",
       "      <td>0</td>\n",
       "      <td>0</td>\n",
       "      <td>1974</td>\n",
       "      <td>4412368652</td>\n",
       "      <td>3</td>\n",
       "      <td>0.1</td>\n",
       "      <td>1.17048</td>\n",
       "      <td>0.0</td>\n",
       "      <td>0.0</td>\n",
       "      <td>0.0</td>\n",
       "      <td>0.0</td>\n",
       "      <td>EURUSD</td>\n",
       "      <td>Twin Hours EMA</td>\n",
       "      <td></td>\n",
       "    </tr>\n",
       "    <tr>\n",
       "      <th>69</th>\n",
       "      <td>4358371111</td>\n",
       "      <td>4412371490</td>\n",
       "      <td>2025-08-25 11:56:41</td>\n",
       "      <td>2025-08-25 11:56:41.034</td>\n",
       "      <td>1</td>\n",
       "      <td>0</td>\n",
       "      <td>1974</td>\n",
       "      <td>4412371490</td>\n",
       "      <td>3</td>\n",
       "      <td>0.1</td>\n",
       "      <td>1.17036</td>\n",
       "      <td>0.0</td>\n",
       "      <td>0.0</td>\n",
       "      <td>0.0</td>\n",
       "      <td>0.0</td>\n",
       "      <td>EURUSD</td>\n",
       "      <td>Twin Hours EMA</td>\n",
       "      <td></td>\n",
       "    </tr>\n",
       "  </tbody>\n",
       "</table>\n",
       "</div>"
      ],
      "text/plain": [
       "        ticket       order                time                time_msc  type  \\\n",
       "68  4358368166  4412368652 2025-08-25 11:56:21 2025-08-25 11:56:21.508     0   \n",
       "69  4358371111  4412371490 2025-08-25 11:56:41 2025-08-25 11:56:41.034     1   \n",
       "\n",
       "    entry  magic  position_id  reason  volume    price  commission  swap  \\\n",
       "68      0   1974   4412368652       3     0.1  1.17048         0.0   0.0   \n",
       "69      0   1974   4412371490       3     0.1  1.17036         0.0   0.0   \n",
       "\n",
       "    profit  fee  symbol         comment external_id  \n",
       "68     0.0  0.0  EURUSD  Twin Hours EMA              \n",
       "69     0.0  0.0  EURUSD  Twin Hours EMA              "
      ]
     },
     "execution_count": 11,
     "metadata": {},
     "output_type": "execute_result"
    }
   ],
   "source": [
    "# Retorna una operacions realitzades\n",
    "deals = get_deals_df()\n",
    "deals.tail(2)"
   ]
  },
  {
   "cell_type": "markdown",
   "id": "1b73346b-2c1c-4945-b374-63f753d3d12d",
   "metadata": {},
   "source": [
    "### Obrir i modificar operacions"
   ]
  },
  {
   "cell_type": "code",
   "execution_count": 7,
   "id": "877f2a82-1021-4b0c-8d36-a4fa07d8e11b",
   "metadata": {},
   "outputs": [
    {
     "name": "stdout",
     "output_type": "stream",
     "text": [
      "Obrint ordre BUY: EURUSD 0.1 lots\n",
      "Preu: 1.17048\n",
      "SL: 1.16948 (10 pips)\n",
      "TP: 1.17298 (25 pips)\n",
      "Ordre executada correctament!\n",
      "   Order: 4412368652, Deal: 4358368166\n",
      "   SL: 1.16948\n",
      "   TP: 1.17298\n"
     ]
    },
    {
     "data": {
      "text/plain": [
       "4412368652"
      ]
     },
     "execution_count": 7,
     "metadata": {},
     "output_type": "execute_result"
    }
   ],
   "source": [
    "# Obrir una posició llarga. Retorna l'identificador de l'operació\n",
    "argSymbol = \"EURUSD\"; argLotSize = 0.10; argSlippage = 10; argMagicNumber = 1974; argComment = \"Twin Hours EMA\"; argSLPips = 10; argTPPips =25\n",
    "ticket = OpenBuyOrder(argSymbol, argLotSize, argSlippage, argMagicNumber, argComment, argSLPips, argTPPips)\n",
    "ticket"
   ]
  },
  {
   "cell_type": "code",
   "execution_count": 8,
   "id": "943b53a3-f74e-407b-851a-f07c8d2ce512",
   "metadata": {},
   "outputs": [
    {
     "name": "stdout",
     "output_type": "stream",
     "text": [
      "Obrint ordre SELL: EURUSD 0.1 lots\n",
      "Preu: 1.17036\n",
      "SL: 1.17136 (10 pips)\n",
      "TP: 1.16786 (25 pips)\n",
      "Ordre de venda executada correctament!\n",
      "   Order: 4412371490, Deal: 4358371111\n",
      "   SL: 1.17136\n",
      "   TP: 1.16786\n"
     ]
    },
    {
     "data": {
      "text/plain": [
       "4412371490"
      ]
     },
     "execution_count": 8,
     "metadata": {},
     "output_type": "execute_result"
    }
   ],
   "source": [
    "# Obrir una posició curta. Retorna l'identificador de l'operació\n",
    "argSymbol = \"EURUSD\"; argLotSize = 0.10; argSlippage = 10; argMagicNumber = 1974; argComment = \"Twin Hours EMA\"; argSLPips = 10; argTPPips =25\n",
    "ticket = OpenSellOrder(argSymbol, argLotSize, argSlippage, argMagicNumber, argComment, argSLPips, argTPPips)\n",
    "ticket"
   ]
  },
  {
   "cell_type": "code",
   "execution_count": 9,
   "id": "5c4db9d1-93ec-4a1d-a67e-ae240fc303ff",
   "metadata": {},
   "outputs": [
    {
     "data": {
      "text/html": [
       "<div>\n",
       "<style scoped>\n",
       "    .dataframe tbody tr th:only-of-type {\n",
       "        vertical-align: middle;\n",
       "    }\n",
       "\n",
       "    .dataframe tbody tr th {\n",
       "        vertical-align: top;\n",
       "    }\n",
       "\n",
       "    .dataframe thead th {\n",
       "        text-align: right;\n",
       "    }\n",
       "</style>\n",
       "<table border=\"1\" class=\"dataframe\">\n",
       "  <thead>\n",
       "    <tr style=\"text-align: right;\">\n",
       "      <th></th>\n",
       "      <th>ticket</th>\n",
       "      <th>time</th>\n",
       "      <th>time_msc</th>\n",
       "      <th>time_update</th>\n",
       "      <th>time_update_msc</th>\n",
       "      <th>type</th>\n",
       "      <th>magic</th>\n",
       "      <th>identifier</th>\n",
       "      <th>reason</th>\n",
       "      <th>volume</th>\n",
       "      <th>price_open</th>\n",
       "      <th>sl</th>\n",
       "      <th>tp</th>\n",
       "      <th>price_current</th>\n",
       "      <th>swap</th>\n",
       "      <th>profit</th>\n",
       "      <th>symbol</th>\n",
       "      <th>comment</th>\n",
       "      <th>external_id</th>\n",
       "    </tr>\n",
       "  </thead>\n",
       "  <tbody>\n",
       "    <tr>\n",
       "      <th>0</th>\n",
       "      <td>4412362562</td>\n",
       "      <td>2025-08-25 11:55:40</td>\n",
       "      <td>2025-08-25 11:55:40.172</td>\n",
       "      <td>2025-08-25 11:55:40</td>\n",
       "      <td>2025-08-25 11:55:40.172</td>\n",
       "      <td>0</td>\n",
       "      <td>1974</td>\n",
       "      <td>4412362562</td>\n",
       "      <td>3</td>\n",
       "      <td>0.1</td>\n",
       "      <td>1.17070</td>\n",
       "      <td>0.00000</td>\n",
       "      <td>0.00000</td>\n",
       "      <td>1.17035</td>\n",
       "      <td>0.0</td>\n",
       "      <td>-2.99</td>\n",
       "      <td>EURUSD</td>\n",
       "      <td>Twin Hours EMA</td>\n",
       "      <td></td>\n",
       "    </tr>\n",
       "    <tr>\n",
       "      <th>1</th>\n",
       "      <td>4412368652</td>\n",
       "      <td>2025-08-25 11:56:21</td>\n",
       "      <td>2025-08-25 11:56:21.508</td>\n",
       "      <td>2025-08-25 11:56:21</td>\n",
       "      <td>2025-08-25 11:56:21.508</td>\n",
       "      <td>0</td>\n",
       "      <td>1974</td>\n",
       "      <td>4412368652</td>\n",
       "      <td>3</td>\n",
       "      <td>0.1</td>\n",
       "      <td>1.17048</td>\n",
       "      <td>1.16948</td>\n",
       "      <td>1.17298</td>\n",
       "      <td>1.17035</td>\n",
       "      <td>0.0</td>\n",
       "      <td>-1.11</td>\n",
       "      <td>EURUSD</td>\n",
       "      <td>Twin Hours EMA</td>\n",
       "      <td></td>\n",
       "    </tr>\n",
       "    <tr>\n",
       "      <th>2</th>\n",
       "      <td>4412371490</td>\n",
       "      <td>2025-08-25 11:56:41</td>\n",
       "      <td>2025-08-25 11:56:41.034</td>\n",
       "      <td>2025-08-25 11:56:41</td>\n",
       "      <td>2025-08-25 11:56:41.034</td>\n",
       "      <td>1</td>\n",
       "      <td>1974</td>\n",
       "      <td>4412371490</td>\n",
       "      <td>3</td>\n",
       "      <td>0.1</td>\n",
       "      <td>1.17036</td>\n",
       "      <td>1.17136</td>\n",
       "      <td>1.16786</td>\n",
       "      <td>1.17048</td>\n",
       "      <td>0.0</td>\n",
       "      <td>-1.03</td>\n",
       "      <td>EURUSD</td>\n",
       "      <td>Twin Hours EMA</td>\n",
       "      <td></td>\n",
       "    </tr>\n",
       "  </tbody>\n",
       "</table>\n",
       "</div>"
      ],
      "text/plain": [
       "       ticket                time                time_msc         time_update  \\\n",
       "0  4412362562 2025-08-25 11:55:40 2025-08-25 11:55:40.172 2025-08-25 11:55:40   \n",
       "1  4412368652 2025-08-25 11:56:21 2025-08-25 11:56:21.508 2025-08-25 11:56:21   \n",
       "2  4412371490 2025-08-25 11:56:41 2025-08-25 11:56:41.034 2025-08-25 11:56:41   \n",
       "\n",
       "          time_update_msc  type  magic  identifier  reason  volume  \\\n",
       "0 2025-08-25 11:55:40.172     0   1974  4412362562       3     0.1   \n",
       "1 2025-08-25 11:56:21.508     0   1974  4412368652       3     0.1   \n",
       "2 2025-08-25 11:56:41.034     1   1974  4412371490       3     0.1   \n",
       "\n",
       "   price_open       sl       tp  price_current  swap  profit  symbol  \\\n",
       "0     1.17070  0.00000  0.00000        1.17035   0.0   -2.99  EURUSD   \n",
       "1     1.17048  1.16948  1.17298        1.17035   0.0   -1.11  EURUSD   \n",
       "2     1.17036  1.17136  1.16786        1.17048   0.0   -1.03  EURUSD   \n",
       "\n",
       "          comment external_id  \n",
       "0  Twin Hours EMA              \n",
       "1  Twin Hours EMA              \n",
       "2  Twin Hours EMA              "
      ]
     },
     "execution_count": 9,
     "metadata": {},
     "output_type": "execute_result"
    }
   ],
   "source": [
    "posicions = get_positions_df()\n",
    "posicions"
   ]
  },
  {
   "cell_type": "code",
   "execution_count": 15,
   "id": "295ac843-e1c1-4572-a7c1-c5d43b69744e",
   "metadata": {},
   "outputs": [
    {
     "name": "stdout",
     "output_type": "stream",
     "text": [
      "Change SL-TP 4412371490 successfully\n"
     ]
    }
   ],
   "source": [
    "# Afegim SL i TP a una posició oberta\n",
    "Modify_SL_and_TP(ticket, 1.18, 1.16)"
   ]
  },
  {
   "cell_type": "code",
   "execution_count": 16,
   "id": "652c07cb-9f62-41cc-93e9-d6a7a7bbcf92",
   "metadata": {},
   "outputs": [
    {
     "name": "stdout",
     "output_type": "stream",
     "text": [
      "Ticket 4412371490 closed successfully\n"
     ]
    }
   ],
   "source": [
    "# Tanquem una posició pel seu indicador\n",
    "CloseOrderByTicket(ticket, 10)"
   ]
  },
  {
   "cell_type": "code",
   "execution_count": 17,
   "id": "e4586042-9344-46ae-93a3-0a2e99534716",
   "metadata": {},
   "outputs": [
    {
     "name": "stdout",
     "output_type": "stream",
     "text": [
      "Closed successfully: retcode=10009 - deal=4358444823 - order=4412445184\n",
      "Closed successfully: retcode=10009 - deal=4358444828 - order=4412445189\n"
     ]
    }
   ],
   "source": [
    "# Tanquem totes les posicions obertes d'una divisa i un identificador\n",
    "CloseAllOrders(\"EURUSD\", 1974, 10)"
   ]
  },
  {
   "cell_type": "code",
   "execution_count": 19,
   "id": "c0ba291f-eb84-4775-a31c-1eee6cbc00ee",
   "metadata": {},
   "outputs": [
    {
     "name": "stdout",
     "output_type": "stream",
     "text": [
      "Pending order placed successfully: retcode=10009 - deal=0 - order=4381769014\n"
     ]
    }
   ],
   "source": [
    "# Creem una ordre pendent\n",
    "order = fct_mt5.OpenPendingOrder(\"EURUSD\", 0.01, 1.1625, 1.1575, 1.1650, 10, 2006, \"Prova\", \"ORDER_TYPE_BUY_LIMIT\")"
   ]
  },
  {
   "cell_type": "code",
   "execution_count": null,
   "id": "984fdf0a-1ec2-44f2-b25a-004a6d80112f",
   "metadata": {},
   "outputs": [],
   "source": []
  }
 ],
 "metadata": {
  "kernelspec": {
   "display_name": "Python (TDR)",
   "language": "python",
   "name": "tdr"
  },
  "language_info": {
   "codemirror_mode": {
    "name": "ipython",
    "version": 3
   },
   "file_extension": ".py",
   "mimetype": "text/x-python",
   "name": "python",
   "nbconvert_exporter": "python",
   "pygments_lexer": "ipython3",
   "version": "3.10.16"
  }
 },
 "nbformat": 4,
 "nbformat_minor": 5
}
