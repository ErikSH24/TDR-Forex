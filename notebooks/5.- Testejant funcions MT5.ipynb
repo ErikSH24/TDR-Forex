{
 "cells": [
  {
   "cell_type": "code",
   "execution_count": 12,
   "id": "f14ef3cf-bb8d-4caf-b4c7-02be170b8a08",
   "metadata": {},
   "outputs": [],
   "source": [
    "import pandas as pd\n",
    "import os\n",
    "from datetime import datetime, timedelta\n",
    "from tqdm import tqdm\n",
    "import gc\n",
    "import sys\n",
    "import matplotlib.pyplot as plt\n",
    "import MetaTrader5 as mt5\n",
    "\n",
    "path_root = \"D:/Documentos/Erik/TDR/TDR-Forex/\"\n",
    "sys.path.append(path_root)\n",
    "from utils.mt5 import *"
   ]
  },
  {
   "cell_type": "markdown",
   "id": "e5e156e6-3ac7-498b-99b6-f571b0384e33",
   "metadata": {},
   "source": [
    "## Posicions"
   ]
  },
  {
   "cell_type": "code",
   "execution_count": 13,
   "id": "46347bec-662f-4f95-91eb-8cb1d8e44ddc",
   "metadata": {},
   "outputs": [
    {
     "data": {
      "text/html": [
       "<div>\n",
       "<style scoped>\n",
       "    .dataframe tbody tr th:only-of-type {\n",
       "        vertical-align: middle;\n",
       "    }\n",
       "\n",
       "    .dataframe tbody tr th {\n",
       "        vertical-align: top;\n",
       "    }\n",
       "\n",
       "    .dataframe thead th {\n",
       "        text-align: right;\n",
       "    }\n",
       "</style>\n",
       "<table border=\"1\" class=\"dataframe\">\n",
       "  <thead>\n",
       "    <tr style=\"text-align: right;\">\n",
       "      <th></th>\n",
       "      <th>ticket</th>\n",
       "      <th>time</th>\n",
       "      <th>time_msc</th>\n",
       "      <th>time_update</th>\n",
       "      <th>time_update_msc</th>\n",
       "      <th>type</th>\n",
       "      <th>magic</th>\n",
       "      <th>identifier</th>\n",
       "      <th>reason</th>\n",
       "      <th>volume</th>\n",
       "      <th>price_open</th>\n",
       "      <th>sl</th>\n",
       "      <th>tp</th>\n",
       "      <th>price_current</th>\n",
       "      <th>swap</th>\n",
       "      <th>profit</th>\n",
       "      <th>symbol</th>\n",
       "      <th>comment</th>\n",
       "      <th>external_id</th>\n",
       "    </tr>\n",
       "  </thead>\n",
       "  <tbody>\n",
       "    <tr>\n",
       "      <th>0</th>\n",
       "      <td>4434485425</td>\n",
       "      <td>2025-08-27 12:55:01</td>\n",
       "      <td>2025-08-27 12:55:01.969</td>\n",
       "      <td>2025-08-27 12:55:01</td>\n",
       "      <td>2025-08-27 12:55:01.969</td>\n",
       "      <td>1</td>\n",
       "      <td>1006</td>\n",
       "      <td>4434485425</td>\n",
       "      <td>3</td>\n",
       "      <td>0.1</td>\n",
       "      <td>1.159</td>\n",
       "      <td>1.18399</td>\n",
       "      <td>1.14899</td>\n",
       "      <td>1.15843</td>\n",
       "      <td>0.0</td>\n",
       "      <td>5.7</td>\n",
       "      <td>EURUSD</td>\n",
       "      <td>Mitjanes</td>\n",
       "      <td></td>\n",
       "    </tr>\n",
       "  </tbody>\n",
       "</table>\n",
       "</div>"
      ],
      "text/plain": [
       "       ticket                time                time_msc         time_update  \\\n",
       "0  4434485425 2025-08-27 12:55:01 2025-08-27 12:55:01.969 2025-08-27 12:55:01   \n",
       "\n",
       "          time_update_msc  type  magic  identifier  reason  volume  \\\n",
       "0 2025-08-27 12:55:01.969     1   1006  4434485425       3     0.1   \n",
       "\n",
       "   price_open       sl       tp  price_current  swap  profit  symbol  \\\n",
       "0       1.159  1.18399  1.14899        1.15843   0.0     5.7  EURUSD   \n",
       "\n",
       "    comment external_id  \n",
       "0  Mitjanes              "
      ]
     },
     "execution_count": 13,
     "metadata": {},
     "output_type": "execute_result"
    }
   ],
   "source": [
    "# Retorna una taula amb les posicions obertes\n",
    "posicions = get_positions_df()\n",
    "posicions"
   ]
  },
  {
   "cell_type": "markdown",
   "id": "4b85e926-7ccc-451f-b0c3-9c6fca96f473",
   "metadata": {},
   "source": [
    "## Deals\n",
    "\n",
    "#### `type`: Indica el tipus d’operació o transacció:\n",
    "- **0**: Buy  \n",
    "- **1**: Sell  \n",
    "- **2**: Balance  \n",
    "\n",
    "#### `entry`: Especifica com s’ha introduït o tancat la posició:\n",
    "- **0**: In (Obertura)  \n",
    "- **1**: Out (Tancament)  \n",
    "- **2**: In/Out (Modificació parcial, increment o reducció)  \n",
    "\n",
    "#### `reason`: Mostra la raó per la qual s’ha executat l’operació:\n",
    "- **0**: Client (Execució manual)  \n",
    "- **1**: Expert (Expert Advisor)  \n",
    "- **2**: Dealer (Broker)  \n",
    "- **3**: Signal (Subscripció a senyal)  \n",
    "- **4**: Stop Loss (SL activat)  \n",
    "- **5**: Take Profit (TP activat)  \n",
    "- **6**: Stop Out (Tancament forçat per marge)  \n",
    "- **7**: Roll Over (Ajustaments com swaps o contractes)  \n",
    "- **8**: SL/TP (Altres execucions automàtiques)  \n"
   ]
  },
  {
   "cell_type": "code",
   "execution_count": 4,
   "id": "46c64dbe-d2c5-4721-b9d9-0f64d66ef3f1",
   "metadata": {},
   "outputs": [
    {
     "data": {
      "text/html": [
       "<div>\n",
       "<style scoped>\n",
       "    .dataframe tbody tr th:only-of-type {\n",
       "        vertical-align: middle;\n",
       "    }\n",
       "\n",
       "    .dataframe tbody tr th {\n",
       "        vertical-align: top;\n",
       "    }\n",
       "\n",
       "    .dataframe thead th {\n",
       "        text-align: right;\n",
       "    }\n",
       "</style>\n",
       "<table border=\"1\" class=\"dataframe\">\n",
       "  <thead>\n",
       "    <tr style=\"text-align: right;\">\n",
       "      <th></th>\n",
       "      <th>ticket</th>\n",
       "      <th>order</th>\n",
       "      <th>time</th>\n",
       "      <th>time_msc</th>\n",
       "      <th>type</th>\n",
       "      <th>entry</th>\n",
       "      <th>magic</th>\n",
       "      <th>position_id</th>\n",
       "      <th>reason</th>\n",
       "      <th>volume</th>\n",
       "      <th>price</th>\n",
       "      <th>commission</th>\n",
       "      <th>swap</th>\n",
       "      <th>profit</th>\n",
       "      <th>fee</th>\n",
       "      <th>symbol</th>\n",
       "      <th>comment</th>\n",
       "      <th>external_id</th>\n",
       "    </tr>\n",
       "  </thead>\n",
       "  <tbody>\n",
       "    <tr>\n",
       "      <th>9</th>\n",
       "      <td>52975712813</td>\n",
       "      <td>53026135794</td>\n",
       "      <td>2025-08-20 19:12:09</td>\n",
       "      <td>2025-08-20 19:12:09.403</td>\n",
       "      <td>0</td>\n",
       "      <td>1</td>\n",
       "      <td>2006</td>\n",
       "      <td>53026135782</td>\n",
       "      <td>3</td>\n",
       "      <td>0.01</td>\n",
       "      <td>1.16546</td>\n",
       "      <td>0.0</td>\n",
       "      <td>0.0</td>\n",
       "      <td>-0.11</td>\n",
       "      <td>0.0</td>\n",
       "      <td>EURUSD</td>\n",
       "      <td></td>\n",
       "      <td></td>\n",
       "    </tr>\n",
       "    <tr>\n",
       "      <th>10</th>\n",
       "      <td>52975712820</td>\n",
       "      <td>53026135803</td>\n",
       "      <td>2025-08-20 19:12:09</td>\n",
       "      <td>2025-08-20 19:12:09.481</td>\n",
       "      <td>1</td>\n",
       "      <td>1</td>\n",
       "      <td>2006</td>\n",
       "      <td>53026135774</td>\n",
       "      <td>3</td>\n",
       "      <td>0.01</td>\n",
       "      <td>1.16534</td>\n",
       "      <td>0.0</td>\n",
       "      <td>0.0</td>\n",
       "      <td>-0.10</td>\n",
       "      <td>0.0</td>\n",
       "      <td>EURUSD</td>\n",
       "      <td></td>\n",
       "      <td></td>\n",
       "    </tr>\n",
       "  </tbody>\n",
       "</table>\n",
       "</div>"
      ],
      "text/plain": [
       "         ticket        order                time                time_msc  \\\n",
       "9   52975712813  53026135794 2025-08-20 19:12:09 2025-08-20 19:12:09.403   \n",
       "10  52975712820  53026135803 2025-08-20 19:12:09 2025-08-20 19:12:09.481   \n",
       "\n",
       "    type  entry  magic  position_id  reason  volume    price  commission  \\\n",
       "9      0      1   2006  53026135782       3    0.01  1.16546         0.0   \n",
       "10     1      1   2006  53026135774       3    0.01  1.16534         0.0   \n",
       "\n",
       "    swap  profit  fee  symbol comment external_id  \n",
       "9    0.0   -0.11  0.0  EURUSD                      \n",
       "10   0.0   -0.10  0.0  EURUSD                      "
      ]
     },
     "execution_count": 4,
     "metadata": {},
     "output_type": "execute_result"
    }
   ],
   "source": [
    "# Retorna una operacions realitzades\n",
    "deals = get_deals_df()\n",
    "deals.tail(2)"
   ]
  },
  {
   "cell_type": "markdown",
   "id": "1b73346b-2c1c-4945-b374-63f753d3d12d",
   "metadata": {},
   "source": [
    "### Obrir i modificar operacions"
   ]
  },
  {
   "cell_type": "code",
   "execution_count": 5,
   "id": "877f2a82-1021-4b0c-8d36-a4fa07d8e11b",
   "metadata": {},
   "outputs": [
    {
     "name": "stdout",
     "output_type": "stream",
     "text": [
      "Obrint ordre BUY: EURUSD 0.1 lots\n",
      "Preu: 1.15857\n",
      "SL: 1.15757 (10 pips)\n",
      "TP: 1.16107 (25 pips)\n",
      "Ordre executada correctament!\n",
      "   Order: 53063709248, Deal: 53012386193\n",
      "   SL: 1.15757\n",
      "   TP: 1.16107\n"
     ]
    },
    {
     "data": {
      "text/plain": [
       "53063709248"
      ]
     },
     "execution_count": 5,
     "metadata": {},
     "output_type": "execute_result"
    }
   ],
   "source": [
    "# Obrir una posició llarga. Retorna l'identificador de l'operació\n",
    "argSymbol = \"EURUSD\"; argLotSize = 0.10; argSlippage = 10; argMagicNumber = 1974; argComment = \"Twin Hours EMA\"; argSLPips = 10; argTPPips =25\n",
    "ticket = OpenBuyOrder(argSymbol, argLotSize, argSlippage, argMagicNumber, argComment, argSLPips, argTPPips)\n",
    "ticket"
   ]
  },
  {
   "cell_type": "code",
   "execution_count": 6,
   "id": "943b53a3-f74e-407b-851a-f07c8d2ce512",
   "metadata": {},
   "outputs": [
    {
     "name": "stdout",
     "output_type": "stream",
     "text": [
      "Obrint ordre SELL: EURUSD 0.1 lots\n",
      "Preu: 1.15843\n",
      "SL: 1.15943 (10 pips)\n",
      "TP: 1.15593 (25 pips)\n",
      "Ordre de venda executada correctament!\n",
      "   Order: 53063709347, Deal: 53012386284\n",
      "   SL: 1.15943\n",
      "   TP: 1.15593\n"
     ]
    },
    {
     "data": {
      "text/plain": [
       "53063709347"
      ]
     },
     "execution_count": 6,
     "metadata": {},
     "output_type": "execute_result"
    }
   ],
   "source": [
    "# Obrir una posició curta. Retorna l'identificador de l'operació\n",
    "argSymbol = \"EURUSD\"; argLotSize = 0.10; argSlippage = 10; argMagicNumber = 1974; argComment = \"Twin Hours EMA\"; argSLPips = 10; argTPPips =25\n",
    "ticket = OpenSellOrder(argSymbol, argLotSize, argSlippage, argMagicNumber, argComment, argSLPips, argTPPips)\n",
    "ticket"
   ]
  },
  {
   "cell_type": "code",
   "execution_count": 7,
   "id": "5c4db9d1-93ec-4a1d-a67e-ae240fc303ff",
   "metadata": {},
   "outputs": [
    {
     "data": {
      "text/html": [
       "<div>\n",
       "<style scoped>\n",
       "    .dataframe tbody tr th:only-of-type {\n",
       "        vertical-align: middle;\n",
       "    }\n",
       "\n",
       "    .dataframe tbody tr th {\n",
       "        vertical-align: top;\n",
       "    }\n",
       "\n",
       "    .dataframe thead th {\n",
       "        text-align: right;\n",
       "    }\n",
       "</style>\n",
       "<table border=\"1\" class=\"dataframe\">\n",
       "  <thead>\n",
       "    <tr style=\"text-align: right;\">\n",
       "      <th></th>\n",
       "      <th>ticket</th>\n",
       "      <th>time</th>\n",
       "      <th>time_msc</th>\n",
       "      <th>time_update</th>\n",
       "      <th>time_update_msc</th>\n",
       "      <th>type</th>\n",
       "      <th>magic</th>\n",
       "      <th>identifier</th>\n",
       "      <th>reason</th>\n",
       "      <th>volume</th>\n",
       "      <th>price_open</th>\n",
       "      <th>sl</th>\n",
       "      <th>tp</th>\n",
       "      <th>price_current</th>\n",
       "      <th>swap</th>\n",
       "      <th>profit</th>\n",
       "      <th>symbol</th>\n",
       "      <th>comment</th>\n",
       "      <th>external_id</th>\n",
       "    </tr>\n",
       "  </thead>\n",
       "  <tbody>\n",
       "    <tr>\n",
       "      <th>0</th>\n",
       "      <td>53063709248</td>\n",
       "      <td>2025-08-27 11:50:07</td>\n",
       "      <td>2025-08-27 11:50:07.080</td>\n",
       "      <td>2025-08-27 11:50:07</td>\n",
       "      <td>2025-08-27 11:50:07.080</td>\n",
       "      <td>0</td>\n",
       "      <td>1974</td>\n",
       "      <td>53063709248</td>\n",
       "      <td>3</td>\n",
       "      <td>0.1</td>\n",
       "      <td>1.15855</td>\n",
       "      <td>1.15757</td>\n",
       "      <td>1.16107</td>\n",
       "      <td>1.15845</td>\n",
       "      <td>0.0</td>\n",
       "      <td>-0.86</td>\n",
       "      <td>EURUSD</td>\n",
       "      <td>Twin Hours EMA</td>\n",
       "      <td></td>\n",
       "    </tr>\n",
       "    <tr>\n",
       "      <th>1</th>\n",
       "      <td>53063709347</td>\n",
       "      <td>2025-08-27 11:50:08</td>\n",
       "      <td>2025-08-27 11:50:08.278</td>\n",
       "      <td>2025-08-27 11:50:08</td>\n",
       "      <td>2025-08-27 11:50:08.278</td>\n",
       "      <td>1</td>\n",
       "      <td>1974</td>\n",
       "      <td>53063709347</td>\n",
       "      <td>3</td>\n",
       "      <td>0.1</td>\n",
       "      <td>1.15843</td>\n",
       "      <td>1.15943</td>\n",
       "      <td>1.15593</td>\n",
       "      <td>1.15857</td>\n",
       "      <td>0.0</td>\n",
       "      <td>-1.21</td>\n",
       "      <td>EURUSD</td>\n",
       "      <td>Twin Hours EMA</td>\n",
       "      <td></td>\n",
       "    </tr>\n",
       "  </tbody>\n",
       "</table>\n",
       "</div>"
      ],
      "text/plain": [
       "        ticket                time                time_msc  \\\n",
       "0  53063709248 2025-08-27 11:50:07 2025-08-27 11:50:07.080   \n",
       "1  53063709347 2025-08-27 11:50:08 2025-08-27 11:50:08.278   \n",
       "\n",
       "          time_update         time_update_msc  type  magic   identifier  \\\n",
       "0 2025-08-27 11:50:07 2025-08-27 11:50:07.080     0   1974  53063709248   \n",
       "1 2025-08-27 11:50:08 2025-08-27 11:50:08.278     1   1974  53063709347   \n",
       "\n",
       "   reason  volume  price_open       sl       tp  price_current  swap  profit  \\\n",
       "0       3     0.1     1.15855  1.15757  1.16107        1.15845   0.0   -0.86   \n",
       "1       3     0.1     1.15843  1.15943  1.15593        1.15857   0.0   -1.21   \n",
       "\n",
       "   symbol         comment external_id  \n",
       "0  EURUSD  Twin Hours EMA              \n",
       "1  EURUSD  Twin Hours EMA              "
      ]
     },
     "execution_count": 7,
     "metadata": {},
     "output_type": "execute_result"
    }
   ],
   "source": [
    "posicions = get_positions_df()\n",
    "posicions"
   ]
  },
  {
   "cell_type": "code",
   "execution_count": 14,
   "id": "295ac843-e1c1-4572-a7c1-c5d43b69744e",
   "metadata": {},
   "outputs": [
    {
     "name": "stdout",
     "output_type": "stream",
     "text": [
      "Change SL-TP 4434485425 successfully\n"
     ]
    }
   ],
   "source": [
    "# Afegim SL i TP a una posició oberta\n",
    "Modify_SL_and_TP(4434485425, 1.1615, 1.1580)"
   ]
  },
  {
   "cell_type": "code",
   "execution_count": 9,
   "id": "652c07cb-9f62-41cc-93e9-d6a7a7bbcf92",
   "metadata": {},
   "outputs": [
    {
     "name": "stdout",
     "output_type": "stream",
     "text": [
      "Ticket 53063709347 closed successfully\n"
     ]
    }
   ],
   "source": [
    "# Tanquem una posició pel seu indicador\n",
    "CloseOrderByTicket(ticket, 10)"
   ]
  },
  {
   "cell_type": "code",
   "execution_count": 10,
   "id": "e4586042-9344-46ae-93a3-0a2e99534716",
   "metadata": {},
   "outputs": [
    {
     "name": "stdout",
     "output_type": "stream",
     "text": [
      "Closed successfully: retcode=10009 - deal=53012387332 - order=53063710432\n"
     ]
    }
   ],
   "source": [
    "# Tanquem totes les posicions obertes d'una divisa i un identificador\n",
    "CloseAllOrders(\"EURUSD\", 1974, 10)"
   ]
  },
  {
   "cell_type": "code",
   "execution_count": null,
   "id": "984fdf0a-1ec2-44f2-b25a-004a6d80112f",
   "metadata": {},
   "outputs": [],
   "source": []
  }
 ],
 "metadata": {
  "kernelspec": {
   "display_name": "Python (TDR)",
   "language": "python",
   "name": "tdr"
  },
  "language_info": {
   "codemirror_mode": {
    "name": "ipython",
    "version": 3
   },
   "file_extension": ".py",
   "mimetype": "text/x-python",
   "name": "python",
   "nbconvert_exporter": "python",
   "pygments_lexer": "ipython3",
   "version": "3.10.16"
  }
 },
 "nbformat": 4,
 "nbformat_minor": 5
}
