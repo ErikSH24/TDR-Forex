{
 "cells": [
  {
   "cell_type": "code",
   "execution_count": 1,
   "id": "100823c6-a7c5-4512-a9a3-7d5a0eac31d3",
   "metadata": {},
   "outputs": [],
   "source": [
    "import pandas as pd\n",
    "import os\n",
    "from datetime import datetime, timedelta\n",
    "from tqdm import tqdm\n",
    "import gc\n",
    "import sys\n",
    "import matplotlib.pyplot as plt\n",
    "import MetaTrader5 as mt5\n",
    "\n",
    "path_root = \"D:/Documentos/Erik/TDR/TDR-Forex\"\n",
    "sys.path.append(path_root)\n",
    "from utils.mt5 import init_mt5\n",
    "from utils.data import get_dataset\n",
    "from utils.strategies import get_strategy_H1, CalcLotSize\n",
    "from utils.backtesting import get_orders_M1, get_statistics_from_book, print_statistics"
   ]
  },
  {
   "cell_type": "code",
   "execution_count": 2,
   "id": "cf824c15-a37b-4d5e-a850-72fdff245732",
   "metadata": {},
   "outputs": [
    {
     "name": "stdout",
     "output_type": "stream",
     "text": [
      "Ordres de compra: 597\n",
      "Ordres de venda: 596\n",
      "Ratio compra/venda: 1.00\n"
     ]
    },
    {
     "data": {
      "text/html": [
       "<div>\n",
       "<style scoped>\n",
       "    .dataframe tbody tr th:only-of-type {\n",
       "        vertical-align: middle;\n",
       "    }\n",
       "\n",
       "    .dataframe tbody tr th {\n",
       "        vertical-align: top;\n",
       "    }\n",
       "\n",
       "    .dataframe thead th {\n",
       "        text-align: right;\n",
       "    }\n",
       "</style>\n",
       "<table border=\"1\" class=\"dataframe\">\n",
       "  <thead>\n",
       "    <tr style=\"text-align: right;\">\n",
       "      <th></th>\n",
       "      <th>year</th>\n",
       "      <th>month</th>\n",
       "      <th>day</th>\n",
       "      <th>hour</th>\n",
       "      <th>ema18_D1</th>\n",
       "      <th>ema30_D1</th>\n",
       "      <th>ema200_D1</th>\n",
       "      <th>ema18_H1</th>\n",
       "      <th>ema30_H1</th>\n",
       "      <th>ema200_H1</th>\n",
       "      <th>cond_close_long</th>\n",
       "      <th>cond_close_short</th>\n",
       "      <th>TP_short</th>\n",
       "      <th>TP_long</th>\n",
       "      <th>SL_short</th>\n",
       "      <th>SL_long</th>\n",
       "      <th>signal</th>\n",
       "    </tr>\n",
       "  </thead>\n",
       "  <tbody>\n",
       "    <tr>\n",
       "      <th>0</th>\n",
       "      <td>2000</td>\n",
       "      <td>1</td>\n",
       "      <td>3</td>\n",
       "      <td>0</td>\n",
       "      <td>1.011777</td>\n",
       "      <td>1.016522</td>\n",
       "      <td>1.039852</td>\n",
       "      <td>1.007454</td>\n",
       "      <td>1.007297</td>\n",
       "      <td>1.009216</td>\n",
       "      <td>0</td>\n",
       "      <td>0</td>\n",
       "      <td>100</td>\n",
       "      <td>100</td>\n",
       "      <td>100</td>\n",
       "      <td>100</td>\n",
       "      <td>0</td>\n",
       "    </tr>\n",
       "  </tbody>\n",
       "</table>\n",
       "</div>"
      ],
      "text/plain": [
       "   year  month  day  hour  ema18_D1  ema30_D1  ema200_D1  ema18_H1  ema30_H1  \\\n",
       "0  2000      1    3     0  1.011777  1.016522   1.039852  1.007454  1.007297   \n",
       "\n",
       "   ema200_H1  cond_close_long  cond_close_short  TP_short  TP_long  SL_short  \\\n",
       "0   1.009216                0                 0       100      100       100   \n",
       "\n",
       "   SL_long  signal  \n",
       "0      100       0  "
      ]
     },
     "metadata": {},
     "output_type": "display_data"
    },
    {
     "data": {
      "text/html": [
       "<div>\n",
       "<style scoped>\n",
       "    .dataframe tbody tr th:only-of-type {\n",
       "        vertical-align: middle;\n",
       "    }\n",
       "\n",
       "    .dataframe tbody tr th {\n",
       "        vertical-align: top;\n",
       "    }\n",
       "\n",
       "    .dataframe thead th {\n",
       "        text-align: right;\n",
       "    }\n",
       "</style>\n",
       "<table border=\"1\" class=\"dataframe\">\n",
       "  <thead>\n",
       "    <tr style=\"text-align: right;\">\n",
       "      <th></th>\n",
       "      <th>time</th>\n",
       "      <th>open</th>\n",
       "      <th>high</th>\n",
       "      <th>low</th>\n",
       "      <th>close</th>\n",
       "      <th>tick_volume</th>\n",
       "      <th>date</th>\n",
       "      <th>year</th>\n",
       "      <th>month</th>\n",
       "      <th>day</th>\n",
       "      <th>hour</th>\n",
       "      <th>n_minute</th>\n",
       "      <th>signal</th>\n",
       "      <th>SL_long</th>\n",
       "      <th>SL_short</th>\n",
       "      <th>TP_long</th>\n",
       "      <th>TP_short</th>\n",
       "      <th>cond_close_long</th>\n",
       "      <th>cond_close_short</th>\n",
       "    </tr>\n",
       "  </thead>\n",
       "  <tbody>\n",
       "    <tr>\n",
       "      <th>0</th>\n",
       "      <td>2000-01-03 00:01:00</td>\n",
       "      <td>1.0073</td>\n",
       "      <td>1.0075</td>\n",
       "      <td>1.0073</td>\n",
       "      <td>1.0073</td>\n",
       "      <td>5</td>\n",
       "      <td>2000-01-03</td>\n",
       "      <td>2000</td>\n",
       "      <td>1</td>\n",
       "      <td>3</td>\n",
       "      <td>0</td>\n",
       "      <td>1</td>\n",
       "      <td>0</td>\n",
       "      <td>100</td>\n",
       "      <td>100</td>\n",
       "      <td>100</td>\n",
       "      <td>100</td>\n",
       "      <td>0</td>\n",
       "      <td>0</td>\n",
       "    </tr>\n",
       "  </tbody>\n",
       "</table>\n",
       "</div>"
      ],
      "text/plain": [
       "                 time    open    high     low   close  tick_volume  \\\n",
       "0 2000-01-03 00:01:00  1.0073  1.0075  1.0073  1.0073            5   \n",
       "\n",
       "         date  year  month  day  hour  n_minute  signal  SL_long  SL_short  \\\n",
       "0  2000-01-03  2000      1    3     0         1       0      100       100   \n",
       "\n",
       "   TP_long  TP_short  cond_close_long  cond_close_short  \n",
       "0      100       100                0                 0  "
      ]
     },
     "metadata": {},
     "output_type": "display_data"
    }
   ],
   "source": [
    "symbol = \"EURUSD\"\n",
    "strategy = \"mitjanes\"\n",
    "data_M1, data_H1 = get_dataset(symbol, path_root)\n",
    "data_M1, data_H1, strategy_params = get_strategy_H1(data_H1, data_M1, strategy, backtest=True)\n",
    "display(data_H1.head(1))\n",
    "display(data_M1.head(1))"
   ]
  },
  {
   "cell_type": "code",
   "execution_count": 3,
   "id": "952c145a-4bad-4bdd-8eff-ceb80a62baa9",
   "metadata": {},
   "outputs": [
    {
     "name": "stdout",
     "output_type": "stream",
     "text": [
      "Strategy: mitjanes\n",
      "Symbol: EURUSD\n",
      "Initial deposit: 2000\n",
      "DynamicLotSize=True - EquityPercent=15 - FixedFixedLotSize=0.1\n",
      "PipPoint: 0.0001\n",
      "Spread: 1.30\n",
      "SwapLong: -0.07\n",
      "SwapShort: -0.10\n"
     ]
    },
    {
     "name": "stderr",
     "output_type": "stream",
     "text": [
      "100%|██████████████████████████████████████████████████████████████████████████████| 1193/1193 [06:44<00:00,  2.95it/s]\n"
     ]
    },
    {
     "ename": "NameError",
     "evalue": "name 'path_results' is not defined",
     "output_type": "error",
     "traceback": [
      "\u001b[1;31m---------------------------------------------------------------------------\u001b[0m",
      "\u001b[1;31mNameError\u001b[0m                                 Traceback (most recent call last)",
      "Cell \u001b[1;32mIn[3], line 3\u001b[0m\n\u001b[0;32m      1\u001b[0m InitialDeposit \u001b[38;5;241m=\u001b[39m \u001b[38;5;241m10000\u001b[39m\n\u001b[0;32m      2\u001b[0m online \u001b[38;5;241m=\u001b[39m \u001b[38;5;28;01mFalse\u001b[39;00m\n\u001b[1;32m----> 3\u001b[0m book, dict_details \u001b[38;5;241m=\u001b[39m \u001b[43mget_orders_M1\u001b[49m\u001b[43m(\u001b[49m\u001b[43mdata_M1\u001b[49m\u001b[43m,\u001b[49m\u001b[43m \u001b[49m\u001b[43mInitialDeposit\u001b[49m\u001b[43m,\u001b[49m\u001b[43m \u001b[49m\u001b[43msymbol\u001b[49m\u001b[43m,\u001b[49m\u001b[43m \u001b[49m\u001b[43mstrategy\u001b[49m\u001b[43m,\u001b[49m\u001b[43m \u001b[49m\u001b[43mstrategy_params\u001b[49m\u001b[43m,\u001b[49m\u001b[43m \u001b[49m\u001b[43monline\u001b[49m\u001b[43m,\u001b[49m\u001b[43m \u001b[49m\u001b[43mpath_root\u001b[49m\u001b[43m)\u001b[49m\n",
      "File \u001b[1;32mD:\\Documentos/Erik/TDR/TDR-Forex\\utils\\backtesting.py:209\u001b[0m, in \u001b[0;36mget_orders_M1\u001b[1;34m(data_M1, InitialDeposit, symbol, strategy, strategy_params, online, path_root)\u001b[0m\n\u001b[0;32m    205\u001b[0m     np\u001b[38;5;241m.\u001b[39msave(path_results \u001b[38;5;241m+\u001b[39m \u001b[38;5;124m'\u001b[39m\u001b[38;5;124m/details_\u001b[39m\u001b[38;5;132;01m{}\u001b[39;00m\u001b[38;5;124m_\u001b[39m\u001b[38;5;132;01m{}\u001b[39;00m\u001b[38;5;124m.npy\u001b[39m\u001b[38;5;124m'\u001b[39m\u001b[38;5;241m.\u001b[39mformat(symbol, strategy), dict_details)\n\u001b[0;32m    206\u001b[0m     \u001b[38;5;28;01mreturn\u001b[39;00m book, dict_details\n\u001b[1;32m--> 209\u001b[0m \u001b[38;5;28;01mdef\u001b[39;00m\u001b[38;5;250m \u001b[39m\u001b[38;5;21mget_statistics_from_book\u001b[39m(book_temp, details, year\u001b[38;5;241m=\u001b[39m\u001b[38;5;28;01mNone\u001b[39;00m):\n\u001b[0;32m    211\u001b[0m \u001b[38;5;250m    \u001b[39m\u001b[38;5;124;03m'''\u001b[39;00m\n\u001b[0;32m    212\u001b[0m \u001b[38;5;124;03m    Returns a dictionary the main statistics from the book\u001b[39;00m\n\u001b[0;32m    213\u001b[0m \u001b[38;5;124;03m    '''\u001b[39;00m\n\u001b[0;32m    215\u001b[0m     \u001b[38;5;28;01mif\u001b[39;00m (year \u001b[38;5;241m!=\u001b[39m \u001b[38;5;28;01mNone\u001b[39;00m) \u001b[38;5;241m&\u001b[39m (year \u001b[38;5;241m!=\u001b[39m \u001b[38;5;124m'\u001b[39m\u001b[38;5;124mAll\u001b[39m\u001b[38;5;124m'\u001b[39m):\n",
      "\u001b[1;31mNameError\u001b[0m: name 'path_results' is not defined"
     ]
    }
   ],
   "source": [
    "InitialDeposit = 10000\n",
    "online = False\n",
    "book, dict_details = get_orders_M1(data_M1, InitialDeposit, symbol, strategy, strategy_params, online, path_root)"
   ]
  },
  {
   "cell_type": "code",
   "execution_count": 5,
   "id": "67cb7ef1-6bbf-468f-8440-0755988735db",
   "metadata": {},
   "outputs": [
    {
     "name": "stdout",
     "output_type": "stream",
     "text": [
      "  Currency: EURUSD                             Spread: 1.20                                 Swap: -0.07 long -0.10 short             \n",
      "  Initial Deposit: 2000.00€                                                                                                              \n",
      "  Total Net Profit: -1939.16€ (-96.96%)                                                                                                  \n",
      "  Total trades: 1143                           Long: 570                                    Short: 573                                   \n",
      "  Expected Pay Off: -1.70€                     Gross Profit: 6138.12€                       Gross Loss: -8077.28€                        \n",
      "  Sharpe Ratio: -0.06                          Long Positions Won: 265 (46.49%)             Short Positions Won: 262 (45.72%)            \n",
      "  Profit Factor: 0.89                          Profit Trades: 527 (46.11%)                  Loss Trades: 616 (53.89%)                    \n",
      "  Largest                                      Profit Trade: 267.92€                        Loss Trade: -284.80€                         \n",
      "  Average                                      Profit Trade: 11.65€                         Loss Trade: -13.11€                          \n",
      "  Absolute DD: 97.81 %                         Maximal DD: 98.37 %                                                                       \n",
      "  Avg Holding Time: 0 days 04:50:16.482939632                                                                                            \n"
     ]
    }
   ],
   "source": [
    "statistics = get_statistics_from_book(book, dict_details, year=None)\n",
    "print_statistics(statistics, filename=None)"
   ]
  },
  {
   "cell_type": "code",
   "execution_count": 7,
   "id": "e6415243-c6c8-4acc-a47e-bafaf5feea91",
   "metadata": {},
   "outputs": [
    {
     "data": {
      "text/html": [
       "<div>\n",
       "<style scoped>\n",
       "    .dataframe tbody tr th:only-of-type {\n",
       "        vertical-align: middle;\n",
       "    }\n",
       "\n",
       "    .dataframe tbody tr th {\n",
       "        vertical-align: top;\n",
       "    }\n",
       "\n",
       "    .dataframe thead th {\n",
       "        text-align: right;\n",
       "    }\n",
       "</style>\n",
       "<table border=\"1\" class=\"dataframe\">\n",
       "  <thead>\n",
       "    <tr style=\"text-align: right;\">\n",
       "      <th></th>\n",
       "      <th>order</th>\n",
       "      <th>type</th>\n",
       "      <th>volume</th>\n",
       "      <th>symbol</th>\n",
       "      <th>entry_time</th>\n",
       "      <th>entry_price</th>\n",
       "      <th>SL</th>\n",
       "      <th>TP</th>\n",
       "      <th>exit_time</th>\n",
       "      <th>exit_price</th>\n",
       "      <th>comissions</th>\n",
       "      <th>swap</th>\n",
       "      <th>profit</th>\n",
       "      <th>n_open_trades</th>\n",
       "      <th>Balance</th>\n",
       "      <th>Reward %</th>\n",
       "    </tr>\n",
       "  </thead>\n",
       "  <tbody>\n",
       "    <tr>\n",
       "      <th>1188</th>\n",
       "      <td>1139</td>\n",
       "      <td>Long</td>\n",
       "      <td>0.01</td>\n",
       "      <td>EURUSD</td>\n",
       "      <td>2025-07-10 06:00:00</td>\n",
       "      <td>1.17397</td>\n",
       "      <td>1.16397</td>\n",
       "      <td>1.18397</td>\n",
       "      <td>2025-07-10 09:02:00</td>\n",
       "      <td>1.17389</td>\n",
       "      <td>0</td>\n",
       "      <td>-0.00</td>\n",
       "      <td>-0.08</td>\n",
       "      <td>1</td>\n",
       "      <td>57.25</td>\n",
       "      <td>-97.1375</td>\n",
       "    </tr>\n",
       "    <tr>\n",
       "      <th>1189</th>\n",
       "      <td>1140</td>\n",
       "      <td>Short</td>\n",
       "      <td>0.01</td>\n",
       "      <td>EURUSD</td>\n",
       "      <td>2025-07-10 18:00:00</td>\n",
       "      <td>1.16794</td>\n",
       "      <td>1.17794</td>\n",
       "      <td>1.15794</td>\n",
       "      <td>2025-07-10 21:02:00</td>\n",
       "      <td>1.16904</td>\n",
       "      <td>0</td>\n",
       "      <td>-0.00</td>\n",
       "      <td>-1.10</td>\n",
       "      <td>1</td>\n",
       "      <td>56.15</td>\n",
       "      <td>-97.1925</td>\n",
       "    </tr>\n",
       "    <tr>\n",
       "      <th>1190</th>\n",
       "      <td>1141</td>\n",
       "      <td>Long</td>\n",
       "      <td>0.01</td>\n",
       "      <td>EURUSD</td>\n",
       "      <td>2025-07-21 23:00:00</td>\n",
       "      <td>1.16902</td>\n",
       "      <td>1.15902</td>\n",
       "      <td>1.17902</td>\n",
       "      <td>2025-07-22 02:02:00</td>\n",
       "      <td>1.16941</td>\n",
       "      <td>0</td>\n",
       "      <td>-0.01</td>\n",
       "      <td>0.38</td>\n",
       "      <td>1</td>\n",
       "      <td>56.53</td>\n",
       "      <td>-97.1735</td>\n",
       "    </tr>\n",
       "    <tr>\n",
       "      <th>1191</th>\n",
       "      <td>1142</td>\n",
       "      <td>Short</td>\n",
       "      <td>0.01</td>\n",
       "      <td>EURUSD</td>\n",
       "      <td>2025-07-28 18:00:00</td>\n",
       "      <td>1.16368</td>\n",
       "      <td>1.17368</td>\n",
       "      <td>1.15368</td>\n",
       "      <td>2025-07-28 21:02:00</td>\n",
       "      <td>1.15912</td>\n",
       "      <td>0</td>\n",
       "      <td>-0.00</td>\n",
       "      <td>4.56</td>\n",
       "      <td>1</td>\n",
       "      <td>61.09</td>\n",
       "      <td>-96.9455</td>\n",
       "    </tr>\n",
       "    <tr>\n",
       "      <th>1192</th>\n",
       "      <td>1143</td>\n",
       "      <td>Long</td>\n",
       "      <td>0.01</td>\n",
       "      <td>EURUSD</td>\n",
       "      <td>2025-08-06 09:00:00</td>\n",
       "      <td>1.15795</td>\n",
       "      <td>1.14795</td>\n",
       "      <td>1.16795</td>\n",
       "      <td>2025-08-06 12:02:00</td>\n",
       "      <td>1.15770</td>\n",
       "      <td>0</td>\n",
       "      <td>-0.00</td>\n",
       "      <td>-0.25</td>\n",
       "      <td>1</td>\n",
       "      <td>60.84</td>\n",
       "      <td>-96.9580</td>\n",
       "    </tr>\n",
       "  </tbody>\n",
       "</table>\n",
       "</div>"
      ],
      "text/plain": [
       "      order   type  volume  symbol          entry_time  entry_price       SL  \\\n",
       "1188   1139   Long    0.01  EURUSD 2025-07-10 06:00:00      1.17397  1.16397   \n",
       "1189   1140  Short    0.01  EURUSD 2025-07-10 18:00:00      1.16794  1.17794   \n",
       "1190   1141   Long    0.01  EURUSD 2025-07-21 23:00:00      1.16902  1.15902   \n",
       "1191   1142  Short    0.01  EURUSD 2025-07-28 18:00:00      1.16368  1.17368   \n",
       "1192   1143   Long    0.01  EURUSD 2025-08-06 09:00:00      1.15795  1.14795   \n",
       "\n",
       "           TP           exit_time  exit_price  comissions  swap  profit  \\\n",
       "1188  1.18397 2025-07-10 09:02:00     1.17389           0 -0.00   -0.08   \n",
       "1189  1.15794 2025-07-10 21:02:00     1.16904           0 -0.00   -1.10   \n",
       "1190  1.17902 2025-07-22 02:02:00     1.16941           0 -0.01    0.38   \n",
       "1191  1.15368 2025-07-28 21:02:00     1.15912           0 -0.00    4.56   \n",
       "1192  1.16795 2025-08-06 12:02:00     1.15770           0 -0.00   -0.25   \n",
       "\n",
       "      n_open_trades  Balance  Reward %  \n",
       "1188              1    57.25  -97.1375  \n",
       "1189              1    56.15  -97.1925  \n",
       "1190              1    56.53  -97.1735  \n",
       "1191              1    61.09  -96.9455  \n",
       "1192              1    60.84  -96.9580  "
      ]
     },
     "execution_count": 7,
     "metadata": {},
     "output_type": "execute_result"
    }
   ],
   "source": [
    "book.tail()"
   ]
  },
  {
   "cell_type": "code",
   "execution_count": 9,
   "id": "187d5df1-f659-45c9-abcf-4459e74cd5a0",
   "metadata": {},
   "outputs": [
    {
     "data": {
      "text/plain": [
       "<Axes: xlabel='entry_time'>"
      ]
     },
     "execution_count": 9,
     "metadata": {},
     "output_type": "execute_result"
    },
    {
     "data": {
      "image/png": "[encoded data removed]",
      "text/plain": [
       "<Figure size 2100x400 with 1 Axes>"
      ]
     },
     "metadata": {},
     "output_type": "display_data"
    }
   ],
   "source": [
    "book.set_index('entry_time').Balance.plot(figsize=(21,4))"
   ]
  },
  {
   "cell_type": "code",
   "execution_count": null,
   "id": "bc655689-c77d-41b3-8fa8-95a8242572ea",
   "metadata": {},
   "outputs": [],
   "source": []
  }
 ],
 "metadata": {
  "kernelspec": {
   "display_name": "Python (TDR)",
   "language": "python",
   "name": "tdr"
  },
  "language_info": {
   "codemirror_mode": {
    "name": "ipython",
    "version": 3
   },
   "file_extension": ".py",
   "mimetype": "text/x-python",
   "name": "python",
   "nbconvert_exporter": "python",
   "pygments_lexer": "ipython3",
   "version": "3.10.16"
  }
 },
 "nbformat": 4,
 "nbformat_minor": 5
}
